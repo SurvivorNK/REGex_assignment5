{
 "cells": [
  {
   "cell_type": "markdown",
   "id": "0aef70bd",
   "metadata": {},
   "source": [
    "# Task 5\n",
    "\n",
    "# Registration Id:SIRSS2272\n",
    "\n",
    "# Name: Nishant Kumar\n"
   ]
  },
  {
   "cell_type": "markdown",
   "id": "60695e25",
   "metadata": {},
   "source": [
    "##### Q. Given a list of integers, write a function to return the sum of all prime numbers in that list."
   ]
  },
  {
   "cell_type": "code",
   "execution_count": null,
   "id": "ebb68453",
   "metadata": {},
   "outputs": [],
   "source": [
    "a = int(input(\"Enter the first number:\"))\n",
    "b = int(input(\"Enter the Second Number:\"))\n",
    "list=[]\n",
    "for i in range(a, b):\n",
    "    for j in range(2, i):\n",
    "        if i % j == 0:\n",
    "            break\n",
    "    else:\n",
    "        print(i)\n",
    "        list.append(i)\n",
    "print(list)\n",
    "sum=0\n",
    "for k in list:\n",
    "    sum+=k\n",
    "print(\"sum of prime numbers in the given list are:\",sum)"
   ]
  },
  {
   "cell_type": "markdown",
   "id": "f73e6eeb",
   "metadata": {},
   "source": [
    "### Given a list of integers, write a function to check whether the list is strictly increasing or not"
   ]
  },
  {
   "cell_type": "code",
   "execution_count": null,
   "id": "47a90707",
   "metadata": {},
   "outputs": [],
   "source": [
    "def order(arr):\n",
    "    for i in range(1, len(arr)):\n",
    "        if arr[i] > arr[i - 1]:\n",
    "            return 'Strictly increasing'\n",
    "    return 'Strictly decreasing'\n",
    "\n",
    "print(order([10,20,30,40,50]))\n",
    "print(order([5,4,3,2,1]))"
   ]
  },
  {
   "cell_type": "markdown",
   "id": "43b02cae",
   "metadata": {},
   "source": [
    "### Write a function to calculate all permutations of a given string. (Without using itertools)"
   ]
  },
  {
   "cell_type": "code",
   "execution_count": null,
   "id": "75b48dbb",
   "metadata": {},
   "outputs": [],
   "source": [
    "def expanding(l):\n",
    "    dif = abs(l[1] - l[0])\n",
    "    for i in range(1, len(l)-1):\n",
    "        temp = abs(l[i+1] - l[i])\n",
    "        if temp < dif:\n",
    "            return False\n",
    "        else:\n",
    "            dif = temp\n",
    "    return True\n",
    "\n",
    "print(expanding([1,3,7,2,-3]))\n",
    "print(expanding([9,3,8,0]))"
   ]
  },
  {
   "cell_type": "markdown",
   "id": "559aa8e2",
   "metadata": {},
   "source": [
    "### Write a function to calculate all permutations of a given string. (Without using itertools)"
   ]
  },
  {
   "cell_type": "code",
   "execution_count": null,
   "id": "13bd5523",
   "metadata": {},
   "outputs": [],
   "source": [
    "def all_permutations(given_string):\n",
    "    for i in range(len(given_string)):\n",
    "        permute('', given_string, i+1)\n",
    "\n",
    "def permute(prefix, given_string, max_len):\n",
    "    if len(given_string) <= 0 or len(prefix) >= max_len:\n",
    "        print(prefix)\n",
    "    else:\n",
    "        for i in range(len(given_string)):\n",
    "            permute(prefix + given_string[i], given_string[:i] + given_string[i+1:], max_len)\n",
    "            \n",
    "print(all_permutations('xyz'))"
   ]
  },
  {
   "cell_type": "code",
   "execution_count": null,
   "id": "f38876fd",
   "metadata": {},
   "outputs": [],
   "source": []
  }
 ],
 "metadata": {
  "kernelspec": {
   "display_name": "Python 3",
   "language": "python",
   "name": "python3"
  },
  "language_info": {
   "codemirror_mode": {
    "name": "ipython",
    "version": 3
   },
   "file_extension": ".py",
   "mimetype": "text/x-python",
   "name": "python",
   "nbconvert_exporter": "python",
   "pygments_lexer": "ipython3",
   "version": "3.8.8"
  }
 },
 "nbformat": 4,
 "nbformat_minor": 5
}
